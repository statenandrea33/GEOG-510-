{
 "cells": [
  {
   "cell_type": "code",
   "execution_count": null,
   "id": "1de9f892-7de2-4fbf-8356-d61c5170ede7",
   "metadata": {},
   "outputs": [],
   "source": [
    "[![Open in Colab](https://colab.research.google.com/assets/colab-badge.svg)](https://github.com/statenandrea33/GEOG-510-/blob/main/Lab02.ipynb)"
   ]
  },
  {
   "cell_type": "code",
   "execution_count": 5,
   "id": "67cc7de3-df62-4f0c-8833-1c55ea8256f9",
   "metadata": {
    "tags": []
   },
   "outputs": [],
   "source": [
    "#Lab 2 Jupyter Notebook"
   ]
  },
  {
   "cell_type": "code",
   "execution_count": 6,
   "id": "c72186d7-d726-4585-af45-d98602aee9c6",
   "metadata": {},
   "outputs": [
    {
     "name": "stdout",
     "output_type": "stream",
     "text": [
      "Hello World!\n"
     ]
    }
   ],
   "source": [
    "print('Hello World!')"
   ]
  },
  {
   "cell_type": "code",
   "execution_count": 7,
   "id": "cd0b54b8-7f76-4561-a754-6adc3fa6bb88",
   "metadata": {},
   "outputs": [
    {
     "name": "stdout",
     "output_type": "stream",
     "text": [
      "Goodbye World!\n"
     ]
    }
   ],
   "source": [
    "print('Goodbye World!')"
   ]
  },
  {
   "cell_type": "code",
   "execution_count": null,
   "id": "09f22506-9495-4d2f-b448-4973865d5cb1",
   "metadata": {},
   "outputs": [],
   "source": []
  }
 ],
 "metadata": {
  "kernelspec": {
   "display_name": "Python 3 (ipykernel)",
   "language": "python",
   "name": "python3"
  },
  "language_info": {
   "codemirror_mode": {
    "name": "ipython",
    "version": 3
   },
   "file_extension": ".py",
   "mimetype": "text/x-python",
   "name": "python",
   "nbconvert_exporter": "python",
   "pygments_lexer": "ipython3",
   "version": "3.9.15"
  },
  "toc-autonumbering": true,
  "toc-showcode": true
 },
 "nbformat": 4,
 "nbformat_minor": 5
}

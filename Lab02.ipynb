{
 "cells": [
  {
   "cell_type": "code",
   "execution_count": null,
   "id": "1de9f892-7de2-4fbf-8356-d61c5170ede7",
   "metadata": {},
   "outputs": [],
   "source": [
    "[![Open in Colab](https://colab.research.g(https://github.com/statenandrea33/GEOG-510-/blob/main/Lab02Jupyter.md)"
   ]
  },
  {
   "cell_type": "code",
   "execution_count": null,
   "id": "67cc7de3-df62-4f0c-8833-1c55ea8256f9",
   "metadata": {},
   "outputs": [],
   "source": []
  }
 ],
 "metadata": {
  "kernelspec": {
   "display_name": "Python 3 (ipykernel)",
   "language": "python",
   "name": "python3"
  },
  "language_info": {
   "codemirror_mode": {
    "name": "ipython",
    "version": 3
   },
   "file_extension": ".py",
   "mimetype": "text/x-python",
   "name": "python",
   "nbconvert_exporter": "python",
   "pygments_lexer": "ipython3",
   "version": "3.9.15"
  },
  "toc-autonumbering": true,
  "toc-showcode": true
 },
 "nbformat": 4,
 "nbformat_minor": 5
}

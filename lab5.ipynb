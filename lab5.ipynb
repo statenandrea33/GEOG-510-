{
 "cells": [
  {
   "cell_type": "markdown",
   "id": "4e70be69",
   "metadata": {},
   "source": [
    "# Lab 5\n",
    "\n",
    "[![image](https://colab.research.google.com/assets/colab-badge.svg)](https://colab.research.google.com/github/giswqs/geosdemo/blob/master/docs/labs/lab5.ipynb)\n",
    "\n",
    "## Submission instructions\n",
    "\n",
    "1. Download the notebook from https://geosdemo.gishub.org/labs/lab5\n",
    "2. Complete the lab questions\n",
    "3. Restart Kernel and Run All Cells\n",
    "4. Upload the notebook to your GitHub repository\n",
    "5. Make sure the notebook has an `Open In Colab` badge. Click on the badge to make sure your notebook can be opened in Colab.\n",
    "6. Submit the link to the notebook on your GitHub repository to Canvas"
   ]
  },
  {
   "cell_type": "code",
   "execution_count": null,
   "id": "8de60915",
   "metadata": {},
   "outputs": [],
   "source": [
    "from datetime import datetime\n",
    "\n",
    "now = datetime.now()\n",
    "print(f\"Submitted time: {now}\")"
   ]
  },
  {
   "cell_type": "markdown",
   "id": "a526d1ff",
   "metadata": {},
   "source": [
    "## Question 1\n",
    "\n",
    "**Person:** Use a dictionary to store information about a person you know. Store their first name, last name, age, and the city in which they live. You should have keys such as first_name, last_name, age, and city. Print each piece of information stored in your dictionary."
   ]
  },
  {
   "cell_type": "code",
   "execution_count": 43,
   "id": "060bd962",
   "metadata": {},
   "outputs": [
    {
     "name": "stdout",
     "output_type": "stream",
     "text": [
      "Maxwell\n",
      "Marcum\n",
      "20\n",
      "Knoxville\n"
     ]
    }
   ],
   "source": [
    "person_0 = {'first name': 'Maxwell', 'last name': 'Marcum', 'age':'20', 'city': 'Knoxville'}\n",
    "\n",
    "print(person_0['first name'])\n",
    "print(person_0['last name'])\n",
    "print(person_0['age'])\n",
    "print(person_0['city'])"
   ]
  },
  {
   "cell_type": "markdown",
   "id": "32bb120e",
   "metadata": {},
   "source": [
    "## Question 2\n",
    "\n",
    "**Favorite Numbers:** Use a dictionary to store people’s favorite numbers. Think of five names, and use them as keys in your dictionary. Think of a favorite number for each person, and store each as a value in your dictionary. Print each person’s name and their favorite number. For even more fun, poll a few friends and get some actual data for your program."
   ]
  },
  {
   "cell_type": "code",
   "execution_count": 42,
   "id": "37115a33",
   "metadata": {},
   "outputs": [
    {
     "name": "stdout",
     "output_type": "stream",
     "text": [
      "Max's favorite number is 77.\n",
      "Jillian's favorite number is 9.\n",
      "Andrea's favorite number is 3.\n",
      "Abby's favorite number is 7.\n",
      "Josee's favorite number is 12.\n"
     ]
    }
   ],
   "source": [
    "favorite_numbers = {\n",
    "    'max': '77',\n",
    "    'jillian': '9',\n",
    "    'andrea': '3',\n",
    "    'abby': '7',\n",
    "    'josee': '12',\n",
    "}\n",
    "\n",
    "num_0 = favorite_numbers['max'].title()\n",
    "print(f\"Max's favorite number is {num_0}.\")\n",
    "num_1 = favorite_numbers['jillian'].title()\n",
    "print(f\"Jillian's favorite number is {num_1}.\")\n",
    "num_2 = favorite_numbers['andrea'].title()\n",
    "print(f\"Andrea's favorite number is {num_2}.\")\n",
    "num_3 = favorite_numbers['abby'].title()\n",
    "print(f\"Abby's favorite number is {num_3}.\")\n",
    "num_4 = favorite_numbers['josee'].title()\n",
    "print(f\"Josee's favorite number is {num_4}.\")"
   ]
  },
  {
   "cell_type": "markdown",
   "id": "eb31ca53",
   "metadata": {},
   "source": [
    "## Question 3\n",
    "\n",
    "**Glossary:** A Python dictionary can be used to model an actual dictionary. However, to avoid confusion, let’s call it a glossary.\n",
    "\n",
    "- Think of five programming words you’ve learned about in the previous chapters. Use these words as the keys in your glossary, and store their meanings as values.\n",
    "- Print each word and its meaning as neatly formatted output. You might print the word followed by a colon and then its meaning, or print the word on one line and then print its meaning indented on a second line. Use the newline character (\\n) to insert a blank line between each word-meaning pair in your output."
   ]
  },
  {
   "cell_type": "code",
   "execution_count": 45,
   "id": "7bdd7f86",
   "metadata": {},
   "outputs": [
    {
     "name": "stdout",
     "output_type": "stream",
     "text": [
      "\n",
      "List: A collection of items in a particular order.\n",
      "\n",
      "Loop: A loop works through a collection of items individually.\n",
      "\n",
      "String: A series of characters.\n",
      "\n",
      "Dictionary: A collection of key-value pairs. \n",
      "\n",
      "Key: A key is the first item in a key-value pair, within a dictionary.\n"
     ]
    }
   ],
   "source": [
    "glossary = {\n",
    "    'list': 'A collection of items in a particular order.',\n",
    "    'loop': 'A loop works through a collection of items individually.',\n",
    "    'string': 'A series of characters.',\n",
    "    'dictionary': 'A collection of key-value pairs. ',\n",
    "    'key': 'A key is the first item in a key-value pair, within a dictionary.',\n",
    "}\n",
    "\n",
    "word = 'list'\n",
    "print(f\"\\n{word.title()}: {glossary[word]}\")\n",
    "\n",
    "word = 'loop'\n",
    "print(f\"\\n{word.title()}: {glossary[word]}\")\n",
    "\n",
    "word = 'string'\n",
    "print(f\"\\n{word.title()}: {glossary[word]}\")\n",
    "\n",
    "word = 'dictionary'\n",
    "print(f\"\\n{word.title()}: {glossary[word]}\")\n",
    "\n",
    "word = 'key'\n",
    "print(f\"\\n{word.title()}: {glossary[word]}\")\n",
    "\n"
   ]
  },
  {
   "cell_type": "markdown",
   "id": "9bdb2d85",
   "metadata": {},
   "source": [
    "## Question 4\n",
    "\n",
    "**Glossary 2:** Now that you know how to loop through a dictionary, clean up the code from Question 3 by replacing your series of print() calls with a loop that runs through the dictionary’s keys and values. When you’re sure that your loop works, add five more Python terms to your glossary. When you run your program again, these new words and meanings should automatically be included in the output."
   ]
  },
  {
   "cell_type": "code",
   "execution_count": 48,
   "id": "018d37ff",
   "metadata": {},
   "outputs": [
    {
     "name": "stdout",
     "output_type": "stream",
     "text": [
      "\n",
      "List: A collection of items in a particular order.\n",
      "\n",
      "Loop: A loop works through a collection of items individually.\n",
      "\n",
      "String: A series of characters.\n",
      "\n",
      "Dictionary: A collection of key-value pairs. \n",
      "\n",
      "Key: A key is the first item in a key-value pair, within a dictionary.\n",
      "\n",
      "Value: An item that is associated with a key in a key-value pair, within a dictionary.\n",
      "\n",
      "Variable: A variable is something connected to a value, which stores information.\n",
      "\n",
      "Floats: A number with a decimal point (ex. 9.4 + 0.6).\n",
      "\n",
      "Comments: Comments are indicated by a (#), these allow a explanation to the code.\n",
      "\n",
      "Tuple: A tuple is essentially a list with parentheses instead of square brackets.\n"
     ]
    }
   ],
   "source": [
    "glossary = {\n",
    "    'list': 'A collection of items in a particular order.',\n",
    "    'loop': 'A loop works through a collection of items individually.',\n",
    "    'string': 'A series of characters.',\n",
    "    'dictionary': 'A collection of key-value pairs. ',\n",
    "    'key': 'A key is the first item in a key-value pair, within a dictionary.',\n",
    "    'value': 'An item that is associated with a key in a key-value pair, within a dictionary.',\n",
    "    'variable': 'A variable is something connected to a value, which stores information.',\n",
    "    'floats': 'A number with a decimal point (ex. 9.4 + 0.6).',\n",
    "    'comments': 'Comments are indicated by a (#), these allow a explanation to the code.',\n",
    "    'tuple': 'A tuple is essentially a list with parentheses instead of square brackets.',\n",
    "}\n",
    "\n",
    "for word, definition in glossary.items():\n",
    "    print(f\"\\n{word.title()}: {definition}\")"
   ]
  },
  {
   "cell_type": "markdown",
   "id": "375356d5",
   "metadata": {},
   "source": [
    "## Question 5\n",
    "\n",
    "**Rivers:** Make a dictionary containing three major rivers and the country each river runs through. One key-value pair might be 'nile': 'egypt'.\n",
    "\n",
    "- Use a loop to print a sentence about each river, such as _The Nile runs through Egypt._\n",
    "- Use a loop to print the name of each river included in the dictionary.\n",
    "- Use a loop to print the name of each country included in the dictionary."
   ]
  },
  {
   "cell_type": "code",
   "execution_count": 50,
   "id": "2fd7b758",
   "metadata": {},
   "outputs": [
    {
     "name": "stdout",
     "output_type": "stream",
     "text": [
      "\n",
      "The Nile flows through Egypt.\n",
      "\n",
      "The Mississippi flows through Usa.\n",
      "\n",
      "The Amazon flows through Brazil.\n",
      "Nile\n",
      "Mississippi\n",
      "Amazon\n",
      "Egypt\n",
      "Brazil\n",
      "Usa\n"
     ]
    }
   ],
   "source": [
    "rivers = {\n",
    "    'nile':'egypt',\n",
    "    'mississippi':'usa',\n",
    "    'amazon':'brazil',\n",
    "}\n",
    "\n",
    "for river,country in rivers.items():\n",
    "        print(f\"\\nThe {river.title()} flows through {country.title()}.\")\n",
    "\n",
    "for river in rivers:\n",
    "        print(river.title())\n",
    "\n",
    "for country in set(rivers.values()):\n",
    "        print(country.title())"
   ]
  },
  {
   "cell_type": "markdown",
   "id": "8b0b500d",
   "metadata": {},
   "source": [
    "## Question 6\n",
    "\n",
    "**Cities:** Make a dictionary called `cities`. Use the names of three cities as keys in your dictionary. Create a dictionary of information about each city and include the country that the city is in, its approximate population, and one fact about that city. The keys for each city’s dictionary should be something like `country`, `population`, and `fact`. Print the name of each city and all of the information you have stored about it."
   ]
  },
  {
   "cell_type": "code",
   "execution_count": 67,
   "id": "28a77010",
   "metadata": {},
   "outputs": [
    {
     "name": "stdout",
     "output_type": "stream",
     "text": [
      "\n",
      "City: Knoxville\n",
      " knoxville is located in United States.\n",
      " It has a population of 192,648.\n",
      " The City of Knoxville was incorporated in 1815.\n",
      "\n",
      "City: Tokyo\n",
      " tokyo is located in Japan.\n",
      " It has a population of 13,960,000.\n",
      " Tokyo has been the japanese capital since 1868.\n",
      "\n",
      "City: Sydney\n",
      " sydney is located in Australia.\n",
      " It has a population of 5,312,000.\n",
      " Sydney is the countries largest city.\n"
     ]
    }
   ],
   "source": [
    "cities = {\n",
    "    'knoxville': {\n",
    "        'country':'united states',\n",
    "        'population':'192,648',\n",
    "        'fact':'The City of Knoxville was incorporated in 1815.',\n",
    "        },\n",
    "    'tokyo': {\n",
    "        'country':'japan',\n",
    "        'population':'13,960,000',\n",
    "        'fact':'Tokyo has been the japanese capital since 1868.',\n",
    "        },\n",
    "    'sydney': {\n",
    "        'country':'australia',\n",
    "        'population':'5,312,000',\n",
    "        'fact':'Sydney is the countries largest city.',\n",
    "        },\n",
    "\n",
    "}\n",
    "\n",
    "for city, city_info in cities.items():\n",
    "    country = city_info['country'].title()\n",
    "    population = city_info['population']\n",
    "    fact = city_info['fact']\n",
    " \n",
    "    print(f\"\\nCity: {city.title()}\")\n",
    "    print(f\" {city} is located in {country}.\")\n",
    "    print(f\" It has a population of {population}.\")\n",
    "    print(f\" {fact}\")"
   ]
  },
  {
   "cell_type": "markdown",
   "id": "874541d3",
   "metadata": {},
   "source": [
    "## Question 7\n",
    "\n",
    "**Rental Car:** Write a program that asks the user what kind of rental car they would like. Print a message about that car, such as “Let me see if I can find you a Subaru.”"
   ]
  },
  {
   "cell_type": "code",
   "execution_count": 72,
   "id": "5283628b",
   "metadata": {},
   "outputs": [
    {
     "name": "stdout",
     "output_type": "stream",
     "text": [
      "Let me see if I can find you a Altima.\n"
     ]
    }
   ],
   "source": [
    "car_type = input('What kind of car would you like to rent?')\n",
    "print(f\"Let me see if I can find you a {car_type}.\")"
   ]
  },
  {
   "cell_type": "markdown",
   "id": "e03a200a",
   "metadata": {},
   "source": [
    "## Question 8\n",
    "\n",
    "**Restaurant Seating:** Write a program that asks the user how many people are in their dinner group. If the answer is more than eight, print a message saying they’ll have to wait for a table. Otherwise, report that their table is ready."
   ]
  },
  {
   "cell_type": "code",
   "execution_count": 73,
   "id": "96167a0f",
   "metadata": {},
   "outputs": [
    {
     "name": "stdout",
     "output_type": "stream",
     "text": [
      "Your table is ready!\n"
     ]
    }
   ],
   "source": [
    "group_size = input('How many people are in your party?')\n",
    "group_size = int(group_size)\n",
    "\n",
    "if group_size > 8:\n",
    "    print('You will have to wait for a table.')\n",
    "else:\n",
    "    print('Your table is ready!')"
   ]
  },
  {
   "cell_type": "markdown",
   "id": "a523d8a7",
   "metadata": {},
   "source": [
    "## Question 9\n",
    "\n",
    "**Multiples of Ten:** Ask the user for a number, and then report whether the number is a multiple of 10 or not."
   ]
  },
  {
   "cell_type": "code",
   "execution_count": 75,
   "id": "77c9702e",
   "metadata": {},
   "outputs": [
    {
     "name": "stdout",
     "output_type": "stream",
     "text": [
      "The number 4443345544330 is a multiple of 10.\n"
     ]
    }
   ],
   "source": [
    "number = input('Enter a number, and I will tell you if it is a multiple of 10 or not.')\n",
    "number = int(number)\n",
    "\n",
    "if number % 10 == 0:\n",
    "    print(f\"The number {number} is a multiple of 10.\")\n",
    "else:\n",
    "    print(f\"The number {number} is not a multiple of 10.\")"
   ]
  },
  {
   "cell_type": "markdown",
   "id": "de550983",
   "metadata": {},
   "source": [
    "## Question 10\n",
    "\n",
    "**Pizza Toppings:** Write a loop that prompts the user to enter a series of pizza toppings until they enter a 'quit' value. As they enter each topping, print a message saying you’ll add that topping to their pizza."
   ]
  },
  {
   "cell_type": "code",
   "execution_count": 34,
   "id": "11f4d8e4",
   "metadata": {},
   "outputs": [
    {
     "name": "stdout",
     "output_type": "stream",
     "text": [
      " Okay, pineapple has been added to your pizza.\n",
      " Okay, pepperoni has been added to your pizza.\n",
      " Okay, banana peppers  has been added to your pizza.\n"
     ]
    }
   ],
   "source": [
    "prompt = \"\\nWhat toppings would you like on your pizza?\"\n",
    "prompt += \"\\nEnter 'quit' when your pizza is complete: \"\n",
    "\n",
    "while True:\n",
    "    topping = input(prompt)\n",
    "    if topping != 'quit':\n",
    "        print (f\" Okay, {topping} has been added to your pizza.\")\n",
    "    else:\n",
    "        break\n",
    "    "
   ]
  },
  {
   "cell_type": "markdown",
   "id": "ccfe4831",
   "metadata": {},
   "source": [
    "## Question 11\n",
    "\n",
    "**Message:** Write a function called `display_message()` that prints one sentence telling everyone what you are learning about in this chapter. Call the function, and make sure the message displays correctly."
   ]
  },
  {
   "cell_type": "code",
   "execution_count": 13,
   "id": "7080b52a",
   "metadata": {},
   "outputs": [
    {
     "name": "stdout",
     "output_type": "stream",
     "text": [
      "In this chapter, I am learning basic Python functions to be able to build a Python package.\n"
     ]
    }
   ],
   "source": [
    "def display_message():\n",
    "    \"\"\"Display what I am learning in this chapter.\"\"\"\n",
    "    print(\"In this chapter, I am learning basic Python functions to be able to build a Python package.\")\n",
    "\n",
    "display_message()\n"
   ]
  },
  {
   "cell_type": "markdown",
   "id": "2b5e23db",
   "metadata": {},
   "source": [
    "## Question 12\n",
    "\n",
    "**Favorite Book:** Write a function called `favorite_book()` that accepts one parameter, title. The function should print a message, such as `One of my favorite books is Alice in Wonderland`. Call the function, making sure to include a book title as an argument in the function call."
   ]
  },
  {
   "cell_type": "code",
   "execution_count": 16,
   "id": "b33bd108",
   "metadata": {},
   "outputs": [
    {
     "name": "stdout",
     "output_type": "stream",
     "text": [
      "One of my favorite books is The Silent Patient.\n"
     ]
    }
   ],
   "source": [
    "def favorite_book(title):\n",
    "    \"\"\"Display information about favorite book.\"\"\"\n",
    "    print(f\"One of my favorite books is {title}.\")\n",
    "\n",
    "favorite_book('The Silent Patient')"
   ]
  },
  {
   "cell_type": "markdown",
   "id": "4904419f",
   "metadata": {},
   "source": [
    "## Question 13\n",
    "\n",
    "**T-Shirt:** Write a function called `make_shirt()` that accepts a size and the text of a message that should be printed on the shirt. The function should print a sentence summarizing the size of the shirt and the message printed on it.\n",
    "\n",
    "Call the function once using positional arguments to make a shirt. Call the function a second time using keyword arguments."
   ]
  },
  {
   "cell_type": "code",
   "execution_count": 11,
   "id": "53d690ca",
   "metadata": {},
   "outputs": [
    {
     "name": "stdout",
     "output_type": "stream",
     "text": [
      "\n",
      "I want a medium shirt.\n",
      "The shirt should say, 'I like plants!'.\n",
      "\n",
      "I want a medium shirt.\n",
      "The shirt should say, 'I like plants!'.\n"
     ]
    }
   ],
   "source": [
    "def make_shirt(shirt_size, shirt_message):\n",
    "    \"\"\"Display information about a shirt.\"\"\"\n",
    "    print(f\"\\nI want a {shirt_size} shirt.\")\n",
    "    print(f\"The shirt should say, '{shirt_message}'.\")\n",
    "\n",
    "make_shirt('medium','I like plants!')\n",
    "make_shirt(shirt_message=\"I like plants!\", shirt_size='medium')"
   ]
  },
  {
   "cell_type": "markdown",
   "id": "c6a6dc4b",
   "metadata": {},
   "source": [
    "## Question 14\n",
    "\n",
    "**Large Shirts:** Modify the `make_shirt()` function so that shirts are large by default with a message that reads _I love Python_. Make a large shirt and a medium shirt with the default message, and a shirt of any size with a different message."
   ]
  },
  {
   "cell_type": "code",
   "execution_count": 12,
   "id": "658f7e3f",
   "metadata": {},
   "outputs": [
    {
     "name": "stdout",
     "output_type": "stream",
     "text": [
      "\n",
      "Can you make a shirt that says, 'I love Python.'?\n",
      "Can I have a size large?\n",
      "\n",
      "Can you make a shirt that says, 'I love Python.'?\n",
      "Can I have a size medium?\n",
      "\n",
      "Can you make a shirt that says, 'I like plants.'?\n",
      "Can I have a size small?\n"
     ]
    }
   ],
   "source": [
    "def make_shirt(shirt_size='large',shirt_message='I love Python.'):\n",
    "    \"\"\"Display information about a shirt.\"\"\"\n",
    "    print(f\"\\nCan you make a shirt that says, '{shirt_message}'?\")\n",
    "    print(f\"Can I have a size {shirt_size}?\")\n",
    "\n",
    "make_shirt()\n",
    "make_shirt('medium','I love Python.')\n",
    "make_shirt('small','I like plants.')"
   ]
  },
  {
   "cell_type": "markdown",
   "id": "64fd6e85",
   "metadata": {},
   "source": [
    "## Question 15\n",
    "\n",
    "**Cities:** Write a function called `describe_city()` that accepts the name of a city and its country. The function should print a simple sentence, such as `Reykjavik is in Iceland`. Give the parameter for the country a default value. Call your function for three different cities, at least one of which is not in the default country."
   ]
  },
  {
   "cell_type": "code",
   "execution_count": 15,
   "id": "bc493373",
   "metadata": {},
   "outputs": [
    {
     "name": "stdout",
     "output_type": "stream",
     "text": [
      "Athens is located in Greece.\n",
      "Patras is located in Greece.\n",
      "Cancun is located in Mexico.\n"
     ]
    }
   ],
   "source": [
    "def describe_city(city,country='greece'):\n",
    "    \"\"\"Describe a cities location.\"\"\"\n",
    "    print(f\"{city.title()} is located in {country.title()}.\")\n",
    "\n",
    "describe_city('athens')\n",
    "describe_city('patras')\n",
    "describe_city('cancun','mexico')"
   ]
  },
  {
   "cell_type": "markdown",
   "id": "259cdcdc",
   "metadata": {},
   "source": [
    "## Question 16\n",
    "\n",
    "**City Names:** Write a function called `city_country()` that takes in the name of a city and its country. The function should return a string formatted like this:\n",
    "\n",
    "```text\n",
    "Santiago, Chile\n",
    "```\n",
    "\n",
    "Call your function with at least three city-country pairs, and print the values that are returned."
   ]
  },
  {
   "cell_type": "code",
   "execution_count": 24,
   "id": "f1b5b16e",
   "metadata": {},
   "outputs": [
    {
     "name": "stdout",
     "output_type": "stream",
     "text": [
      "Athens, Greece\n",
      "Patras, Greece\n",
      "Cancun, Mexico\n"
     ]
    }
   ],
   "source": [
    "def city_country(city,country):\n",
    "    \"\"\"Return a string with a city, country.\"\"\"\n",
    "    return (f\"{city.title()}, {country.title()}\")\n",
    "\n",
    "city= city_country('athens', 'greece')    \n",
    "print(city)\n",
    "city= city_country('patras', 'greece')\n",
    "print(city)\n",
    "city= city_country('cancun', 'mexico')\n",
    "print(city)"
   ]
  },
  {
   "cell_type": "markdown",
   "id": "491f64a4",
   "metadata": {},
   "source": [
    "## Question 17\n",
    "\n",
    "**Album:** Write a function called `make_album()` that builds a dictionary describing a music album. The function should take in an artist name and an album title, and it should return a dictionary containing these two pieces of information. Use the function to make three dictionaries representing different albums. Print each return value to show that the dictionaries are storing the album information correctly.\n",
    "\n",
    "Use None to add an optional parameter to make_album() that allows you to store the number of songs on an album. If the calling line includes a value for the number of songs, add that value to the album’s dictionary. Make at least one new function call that includes the number of songs on an album."
   ]
  },
  {
   "cell_type": "code",
   "execution_count": 15,
   "id": "550b2be6",
   "metadata": {},
   "outputs": [
    {
     "name": "stdout",
     "output_type": "stream",
     "text": [
      "{'artist': 'Rainbow Kitten Surprise', 'title': 'Rks'}\n",
      "{'artist': 'Oliver Tree', 'title': 'Ugly Is Beautiful'}\n",
      "{'artist': 'Still Woozy', 'title': 'Goodie Bag'}\n",
      "{'artist': 'King Gizzard And The Lizard Wizard', 'title': 'Omnium Gatherum', 'number of songs': '16'}\n"
     ]
    }
   ],
   "source": [
    "def make_album(artist,title, num_songs = None):\n",
    "    \"\"\"Build a dictionary describing a music album.\"\"\"\n",
    "    album_dict = {\n",
    "        'artist': artist.title(),\n",
    "        'title': title.title(),\n",
    "    }\n",
    "    if num_songs:\n",
    "        album_dict['number of songs'] = num_songs\n",
    "    return album_dict\n",
    "\n",
    "\n",
    "\n",
    "album = make_album ('rainbow kitten surprise', 'RKS')\n",
    "print(album)\n",
    "\n",
    "album = make_album ('oliver tree', 'ugly is beautiful')\n",
    "print(album)\n",
    "\n",
    "album = make_album ('still woozy', 'goodie bag')\n",
    "print(album)\n",
    "\n",
    "album = make_album ('king gizzard and the lizard wizard', 'omnium gatherum', '16')\n",
    "print(album)"
   ]
  },
  {
   "cell_type": "markdown",
   "id": "42f6a72f",
   "metadata": {},
   "source": [
    "## Question 18\n",
    "\n",
    "**User Albums:** Start with your program from Question 17. Write a `while` loop that allows users to enter an album’s artist and title. Once you have that information, call `make_album()` with the user’s input and print the dictionary that’s created. Be sure to include a quit value in the `while` loop."
   ]
  },
  {
   "cell_type": "code",
   "execution_count": 19,
   "id": "2ba9b4ba",
   "metadata": {},
   "outputs": [
    {
     "name": "stdout",
     "output_type": "stream",
     "text": [
      "\n",
      " What artist or band are you thinking of?\n",
      "What is the name of the album?\n",
      "Enter 'quit' at any time to stop.\n",
      "\n",
      " What artist or band are you thinking of?\n",
      "What is the name of the album?\n",
      "Enter 'quit' at any time to stop.\n"
     ]
    },
    {
     "ename": "AttributeError",
     "evalue": "'dict' object has no attribute 'title'",
     "output_type": "error",
     "traceback": [
      "\u001b[1;31m---------------------------------------------------------------------------\u001b[0m",
      "\u001b[1;31mAttributeError\u001b[0m                            Traceback (most recent call last)",
      "Cell \u001b[1;32mIn[19], line 24\u001b[0m\n\u001b[0;32m     21\u001b[0m     \u001b[39mif\u001b[39;00m title \u001b[39m==\u001b[39m \u001b[39m'\u001b[39m\u001b[39mquit\u001b[39m\u001b[39m'\u001b[39m:\n\u001b[0;32m     22\u001b[0m         \u001b[39mbreak\u001b[39;00m\n\u001b[1;32m---> 24\u001b[0m \u001b[39mprint\u001b[39m(make_album(artist,album))\n",
      "Cell \u001b[1;32mIn[19], line 5\u001b[0m, in \u001b[0;36mmake_album\u001b[1;34m(artist, title, num_songs)\u001b[0m\n\u001b[0;32m      1\u001b[0m \u001b[39mdef\u001b[39;00m \u001b[39mmake_album\u001b[39m(artist,title, num_songs \u001b[39m=\u001b[39m \u001b[39mNone\u001b[39;00m):\n\u001b[0;32m      2\u001b[0m \u001b[39m    \u001b[39m\u001b[39m\"\"\"Build a dictionary describing a music album.\"\"\"\u001b[39;00m\n\u001b[0;32m      3\u001b[0m     album_dict \u001b[39m=\u001b[39m {\n\u001b[0;32m      4\u001b[0m         \u001b[39m'\u001b[39m\u001b[39martist\u001b[39m\u001b[39m'\u001b[39m: artist\u001b[39m.\u001b[39mtitle(),\n\u001b[1;32m----> 5\u001b[0m         \u001b[39m'\u001b[39m\u001b[39mtitle\u001b[39m\u001b[39m'\u001b[39m: title\u001b[39m.\u001b[39;49mtitle(),\n\u001b[0;32m      6\u001b[0m     }\n\u001b[0;32m      7\u001b[0m     \u001b[39mif\u001b[39;00m num_songs:\n\u001b[0;32m      8\u001b[0m         album_dict[\u001b[39m'\u001b[39m\u001b[39mnumber of songs\u001b[39m\u001b[39m'\u001b[39m] \u001b[39m=\u001b[39m num_songs\n",
      "\u001b[1;31mAttributeError\u001b[0m: 'dict' object has no attribute 'title'"
     ]
    }
   ],
   "source": [
    "def make_album(artist,title, num_songs = None):\n",
    "    \"\"\"Build a dictionary describing a music album.\"\"\"\n",
    "    album_dict = {\n",
    "        'artist': artist.title(),\n",
    "        'title': title.title(),\n",
    "    }\n",
    "    if num_songs:\n",
    "        album_dict['number of songs'] = num_songs\n",
    "    return album_dict\n",
    "\n",
    "while True:\n",
    "    print(\"\\n What artist or band are you thinking of?\")\n",
    "    print(\"What is the name of the album?\")\n",
    "    print(\"Enter 'quit' at any time to stop.\")\n",
    "    \n",
    "    artist = input(\"Artist's name: \")\n",
    "    if artist == 'quit':\n",
    "        break\n",
    "\n",
    "    title = input(\"Album title: \")\n",
    "    if title == 'quit':\n",
    "        break\n",
    "\n",
    "print(make_album(artist,album))\n",
    "\n",
    "\n",
    "## This is messed up.\n",
    "    \n"
   ]
  },
  {
   "cell_type": "markdown",
   "id": "97bab8c2",
   "metadata": {},
   "source": [
    "## Question 19\n",
    "\n",
    "**Messages:** Make a list containing a series of short text messages. Pass the list to a function called `show_messages()`, which prints each text message."
   ]
  },
  {
   "cell_type": "code",
   "execution_count": 23,
   "id": "f8f3ee4e",
   "metadata": {},
   "outputs": [
    {
     "name": "stdout",
     "output_type": "stream",
     "text": [
      "hi\n",
      "how are you\n",
      "goodbye\n"
     ]
    }
   ],
   "source": [
    "messages = [\"hi\",\"how are you\",\"goodbye\"]\n",
    "\n",
    "def show_messages(messages):\n",
    "    \"\"\"Print each text message.\"\"\"\n",
    "    for message in messages:\n",
    "        print(message)\n",
    "\n",
    "show_messages(messages)"
   ]
  },
  {
   "cell_type": "markdown",
   "id": "a8bcea3c",
   "metadata": {},
   "source": [
    "## Question 20\n",
    "\n",
    "**Sending Messages:** Start with a copy of your program from Question 19. Write a function called `send_messages()` that prints each text message and moves each message to a new list called `sent_messages` as it’s printed. After calling the function, print both of your lists to make sure the messages were moved correctly."
   ]
  },
  {
   "cell_type": "code",
   "execution_count": 33,
   "id": "c5340719",
   "metadata": {},
   "outputs": [
    {
     "name": "stdout",
     "output_type": "stream",
     "text": [
      "hi\n",
      "how are you\n",
      "goodbye\n",
      "\n",
      "Sending messages:\n",
      "goodbye\n",
      "how are you\n",
      "hi\n",
      "\n",
      "Final list of messages:\n",
      "[]\n",
      "['goodbye', 'how are you', 'hi']\n"
     ]
    }
   ],
   "source": [
    "messages = [\"hi\",\"how are you\",\"goodbye\"]\n",
    "\n",
    "def show_messages(messages):\n",
    "    \"\"\"Print each text message.\"\"\"\n",
    "    for message in messages:\n",
    "        print(message)\n",
    "\n",
    "show_messages(messages)\n",
    "\n",
    "def send_messages(messages, sent_messages):\n",
    "    \"\"\"Print each message, and move it to sent_messages.\"\"\"\n",
    "    print(\"\\nSending messages:\")\n",
    "    while messages:\n",
    "        current_message = messages.pop()\n",
    "        print(current_message)\n",
    "        sent_messages.append(current_message)\n",
    "\n",
    "sent_messages = []\n",
    "send_messages(messages,sent_messages)\n",
    "\n",
    "print(\"\\nFinal list of messages:\")\n",
    "print(messages)\n",
    "print(sent_messages)\n",
    "\n",
    "##Double Check\n"
   ]
  },
  {
   "cell_type": "markdown",
   "id": "c98f1dd0",
   "metadata": {},
   "source": [
    "## Question 21\n",
    "\n",
    "**Learning Python:** Open a blank file in your text editor and write a few lines summarizing what you’ve learned about Python so far. Start each line with the phrase _In Python you can. . .._ Save the file as _learning_python.txt_ in the same directory as your exercises from this chapter. Write a program that reads the file and prints what you wrote three times. Print the contents once by reading in the entire file, once by looping over the file object, and once by storing the lines in a list and then working with them outside the _with_ block."
   ]
  },
  {
   "cell_type": "code",
   "execution_count": 6,
   "id": "cb5da040",
   "metadata": {},
   "outputs": [
    {
     "name": "stdout",
     "output_type": "stream",
     "text": [
      "Reading in the entire file:\n",
      "In Python you can loop through a dictionary.\n",
      "In Python you can create a tuple, which is a immutable list.\n",
      "In Python you can call a function that you created.\n",
      "\n",
      "Looping over the lines:\n",
      "In Python you can loop through a dictionary.\n",
      "In Python you can create a tuple, which is a immutable list.\n",
      "In Python you can call a function that you created.\n",
      "\n",
      "Storing the lines in a list:\n",
      "In Python you can loop through a dictionary.\n",
      "In Python you can create a tuple, which is a immutable list.\n",
      "In Python you can call a function that you created.\n"
     ]
    }
   ],
   "source": [
    "## Reading the entire file\n",
    "print(\"Reading in the entire file:\")\n",
    "with open ('learning_python.txt') as file_object:\n",
    "    contents = file_object.read()\n",
    "print(contents)\n",
    "\n",
    "##Looping over the file\n",
    "print(\"Looping over the lines:\")\n",
    "with open('learning_python.txt') as file_object:\n",
    "    for line in file_object:\n",
    "        print(line.rstrip())\n",
    "\n",
    "##Storing the lines in a list and then working with them outside\n",
    "print(\"\\nStoring the lines in a list:\")\n",
    "filename = 'learning_python.txt'\n",
    "\n",
    "with open(filename) as file_object:\n",
    "    lines = file_object.readlines()\n",
    "\n",
    "for line in lines:\n",
    "    print(line.rstrip())\n"
   ]
  },
  {
   "cell_type": "markdown",
   "id": "4a1a04ad",
   "metadata": {},
   "source": [
    "## Question 22\n",
    "\n",
    "**Learning C:** You can use the replace() method to replace any word in a string with a different word. Here’s a quick example showing how to replace 'dog' with 'cat' in a sentence:\n",
    "\n",
    "```text\n",
    "message = \"I really like dogs.\"\n",
    "message.replace('dog', 'cat')\n",
    "'I really like cats.'\n",
    "```\n",
    "\n",
    "Read in each line from the file you just created, _learning_python.txt_, and replace the word _Python_ with the name of another language, such as _C_. Print each modified line to the screen."
   ]
  },
  {
   "cell_type": "code",
   "execution_count": 11,
   "id": "b11b8018",
   "metadata": {},
   "outputs": [
    {
     "name": "stdout",
     "output_type": "stream",
     "text": [
      "In C you can loop through a dictionary.\n",
      "In C you can create a tuple, which is a immutable list.\n",
      "In C you can call a function that you created.\n"
     ]
    }
   ],
   "source": [
    "filename = 'learning_python.txt'\n",
    "\n",
    "with open(filename) as file_object:\n",
    "    lines = file_object.readlines()\n",
    "\n",
    "for line in lines:\n",
    "    line = line.rstrip()\n",
    "    print(line.replace('Python', 'C'))\n"
   ]
  },
  {
   "cell_type": "markdown",
   "id": "0921244a",
   "metadata": {},
   "source": [
    "## Question 23\n",
    "\n",
    "**Guest:** Write a program that prompts the user for their name. When they respond, write their name to a file called guest.txt."
   ]
  },
  {
   "cell_type": "code",
   "execution_count": 19,
   "id": "340d8f4b",
   "metadata": {},
   "outputs": [],
   "source": [
    "name = input(\"What's your name?\")\n",
    "\n",
    "filename = 'guest.txt'\n",
    "\n",
    "with open(filename, 'w') as file_object:\n",
    "    file_object.write(name)"
   ]
  },
  {
   "cell_type": "markdown",
   "id": "24b72b21",
   "metadata": {},
   "source": [
    "## Question 24\n",
    "\n",
    "**Guest Book:** Write a while loop that prompts users for their name. When they enter their name, print a greeting to the screen and add a line recording their visit in a file called guest_book.txt. Make sure each entry appears on a new line in the file."
   ]
  },
  {
   "cell_type": "code",
   "execution_count": 33,
   "id": "2326c653",
   "metadata": {},
   "outputs": [
    {
     "name": "stdout",
     "output_type": "stream",
     "text": [
      "Enter 'quit' when you are finished.\n",
      "Hello Andrea ,you've been added to the guest book.\n",
      "Hello Max ,you've been added to the guest book.\n",
      "Hello JIll ,you've been added to the guest book.\n",
      "Hello Abby ,you've been added to the guest book.\n"
     ]
    }
   ],
   "source": [
    "filename = 'guest_book.txt'\n",
    "\n",
    "print(\"Enter 'quit' when you are finished.\")\n",
    "while True:\n",
    "    name = input(\"\\nWhat's your name? \")\n",
    "    if name == 'quit':\n",
    "        break\n",
    "    else:\n",
    "        with open(filename, 'a') as file_object:\n",
    "            file_object.write(name + \"\\n\")\n",
    "        print(f\"Hello {name} ,you've been added to the guest book.\")\n"
   ]
  },
  {
   "cell_type": "markdown",
   "id": "f3075d32",
   "metadata": {},
   "source": [
    "## Question 25\n",
    "\n",
    "**Programming Poll:** Write a while loop that asks people why they like programming. Each time someone enters a reason, add their reason to a file that stores all the responses."
   ]
  },
  {
   "cell_type": "code",
   "execution_count": 30,
   "id": "042dfb04",
   "metadata": {},
   "outputs": [],
   "source": [
    "filename = 'programming_poll.txt'\n",
    "\n",
    "responses = []\n",
    "while True:\n",
    "    response = input(\"\\nWhy do you like programming? \")\n",
    "    responses.append(response)\n",
    "\n",
    "    continue_poll = input(\"Would you like to let someone else respond? (y/n) \")\n",
    "    if continue_poll != 'y':\n",
    "        break\n",
    "\n",
    "with open(filename, 'a') as file_object:\n",
    "    for response in responses:\n",
    "        file_object.write(response + \"\\n\")"
   ]
  },
  {
   "cell_type": "markdown",
   "id": "ed07a1ca",
   "metadata": {},
   "source": [
    "## Question 26\n",
    "\n",
    "**Addition:** One common problem when prompting for numerical input occurs when people provide text instead of numbers. When you try to convert the input to an int, you’ll get a ValueError. Write a program that prompts for two numbers. Add them together and print the result. Catch the ValueError if either input value is not a number, and print a friendly error message. Test your program by entering two numbers and then by entering some text instead of a number."
   ]
  },
  {
   "cell_type": "code",
   "execution_count": null,
   "id": "eaf686f8",
   "metadata": {},
   "outputs": [],
   "source": []
  },
  {
   "cell_type": "markdown",
   "id": "09db5341",
   "metadata": {},
   "source": [
    "## Question 27\n",
    "\n",
    "**Addition Calculator:** Wrap your code from Question 26 in a while loop so the user can continue entering numbers even if they make a mistake and enter text instead of a number."
   ]
  },
  {
   "cell_type": "code",
   "execution_count": null,
   "id": "916c769d",
   "metadata": {},
   "outputs": [],
   "source": []
  },
  {
   "cell_type": "markdown",
   "id": "288099a9",
   "metadata": {},
   "source": [
    "## Question 28\n",
    "\n",
    "**Cats and Dogs:** Make two files, _cats.txt_ and _dogs.txt_. Store at least three names of cats in the first file and three names of dogs in the second file. Write a program that tries to read these files and print the contents of the file to the screen. Wrap your code in a `try-except` block to catch the `FileNotFound` error, and print a friendly message if a file is missing. Move one of the files to a different location on your system, and make sure the code in the `except` block executes properly."
   ]
  },
  {
   "cell_type": "code",
   "execution_count": null,
   "id": "387672f6",
   "metadata": {},
   "outputs": [],
   "source": []
  },
  {
   "cell_type": "markdown",
   "id": "e9d28546",
   "metadata": {},
   "source": [
    "## Question 29\n",
    "\n",
    "**Silent Cats and Dogs:** Modify your except block in Question 28 to fail silently if either file is missing."
   ]
  },
  {
   "cell_type": "code",
   "execution_count": null,
   "id": "2b972722",
   "metadata": {},
   "outputs": [],
   "source": []
  },
  {
   "cell_type": "markdown",
   "id": "241ffab1",
   "metadata": {},
   "source": [
    "## Question 30\n",
    "\n",
    "**Common Words:** Visit Project Gutenberg (<https://gutenberg.org/>) and find a few texts you’d like to analyze. Download the text files for these works, or copy the raw text from your browser into a text file on your computer. You can use the `count()` method to find out how many times a word or phrase appears in a string. For example, the following code counts the number of times 'row' appears in a string:"
   ]
  },
  {
   "cell_type": "code",
   "execution_count": null,
   "id": "2a017ac9",
   "metadata": {},
   "outputs": [],
   "source": [
    "line = \"Row, row, row your boat\"\n",
    "line.count('row')"
   ]
  },
  {
   "cell_type": "code",
   "execution_count": null,
   "id": "41707165",
   "metadata": {},
   "outputs": [],
   "source": [
    "line.lower().count('row')"
   ]
  },
  {
   "cell_type": "markdown",
   "id": "5652cc4d",
   "metadata": {},
   "source": [
    "Notice that converting the string to lowercase using lower() catches all appearances of the word you’re looking for, regardless of how it’s formatted.\n",
    "\n",
    "Write a program that reads the files you found at Project Gutenberg and determines how many times the word `the` appears in each text. This will be an approximation because it will also count words such as `then` and `there`. Try counting `the`, with a space in the string, and see how much lower your count is."
   ]
  },
  {
   "cell_type": "code",
   "execution_count": null,
   "id": "55ab2af3",
   "metadata": {},
   "outputs": [],
   "source": []
  }
 ],
 "metadata": {
  "kernelspec": {
   "display_name": "Python 3",
   "language": "python",
   "name": "python3"
  },
  "language_info": {
   "codemirror_mode": {
    "name": "ipython",
    "version": 3
   },
   "file_extension": ".py",
   "mimetype": "text/x-python",
   "name": "python",
   "nbconvert_exporter": "python",
   "pygments_lexer": "ipython3",
   "version": "3.9.15"
  }
 },
 "nbformat": 4,
 "nbformat_minor": 5
}

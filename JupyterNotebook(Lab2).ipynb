{
 "cells": [
  {
   "cell_type": "markdown",
   "id": "20f61920-2da4-4cf7-b274-cb205b473cbe",
   "metadata": {},
   "source": [
    "![image](https://colab.research.google.com/assets/colab-badge.svg)(https://github.com/statenandrea33/GEOG-510-)"
   ]
  },
  {
   "cell_type": "code",
   "execution_count": 3,
   "id": "1791999d-3efd-425e-94b1-313c0cbbf279",
   "metadata": {},
   "outputs": [
    {
     "name": "stdout",
     "output_type": "stream",
     "text": [
      "Hello World!\n"
     ]
    }
   ],
   "source": [
    "print('Hello World!')"
   ]
  },
  {
   "cell_type": "code",
   "execution_count": 4,
   "id": "8f070736-9550-4c4a-94c4-d9725d7a3821",
   "metadata": {},
   "outputs": [
    {
     "name": "stdout",
     "output_type": "stream",
     "text": [
      "Goodbye World!\n"
     ]
    }
   ],
   "source": [
    "print('Goodbye World!')"
   ]
  }
 ],
 "metadata": {
  "kernelspec": {
   "display_name": "Python 3 (ipykernel)",
   "language": "python",
   "name": "python3"
  },
  "language_info": {
   "codemirror_mode": {
    "name": "ipython",
    "version": 3
   },
   "file_extension": ".py",
   "mimetype": "text/x-python",
   "name": "python",
   "nbconvert_exporter": "python",
   "pygments_lexer": "ipython3",
   "version": "3.9.15"
  }
 },
 "nbformat": 4,
 "nbformat_minor": 5
}

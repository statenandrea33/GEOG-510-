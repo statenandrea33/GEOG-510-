{
 "cells": [
  {
   "attachments": {},
   "cell_type": "markdown",
   "id": "20f61920-2da4-4cf7-b274-cb205b473cbe",
   "metadata": {},
   "source": [
    "[![image](https://colab.research.google.com/assets/colab-badge.svg)](https://githubtocolab.com/statenandrea33/GEOG-510-/blob/main/JupyterNotebookLab2.ipynb)"
   ]
  },
  {
   "cell_type": "code",
   "execution_count": 3,
   "id": "1791999d-3efd-425e-94b1-313c0cbbf279",
   "metadata": {},
   "outputs": [
    {
     "name": "stdout",
     "output_type": "stream",
     "text": [
      "Hello World!\n"
     ]
    }
   ],
   "source": [
    "print('Hello World!')"
   ]
  },
  {
   "cell_type": "code",
   "execution_count": 4,
   "id": "8f070736-9550-4c4a-94c4-d9725d7a3821",
   "metadata": {},
   "outputs": [
    {
     "name": "stdout",
     "output_type": "stream",
     "text": [
      "Goodbye World!\n"
     ]
    }
   ],
   "source": [
    "print('Goodbye World!')"
   ]
  },
  {
   "cell_type": "markdown",
   "id": "85642000-803b-4993-a8d3-d70ce6aae830",
   "metadata": {},
   "source": [
    "## This is a Jupyter Notebook for Lab 2 in GEOG 510."
   ]
  }
 ],
 "metadata": {
  "kernelspec": {
   "display_name": "Python 3 (ipykernel)",
   "language": "python",
   "name": "python3"
  },
  "language_info": {
   "codemirror_mode": {
    "name": "ipython",
    "version": 3
   },
   "file_extension": ".py",
   "mimetype": "text/x-python",
   "name": "python",
   "nbconvert_exporter": "python",
   "pygments_lexer": "ipython3",
   "version": "3.9.15"
  }
 },
 "nbformat": 4,
 "nbformat_minor": 5
}

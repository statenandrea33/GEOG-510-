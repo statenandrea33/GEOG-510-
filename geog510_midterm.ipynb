{
  "cells": [
    {
      "cell_type": "markdown",
      "metadata": {
        "id": "view-in-github",
        "colab_type": "text"
      },
    },
    {
      "cell_type": "markdown",
      "id": "ccc39dc4-617c-4e04-90b6-7560272136e4",
      "metadata": {
        "id": "ccc39dc4-617c-4e04-90b6-7560272136e4"
      },
      "source": [
        "# GEOG 422/510 Midterm Exam\n",
        "\n",
        "[![image](https://colab.research.google.com/assets/colab-badge.svg)](https://colab.research.google.com/github/statenandrea33/GEOG-510-/blob/main/geog510_midterm.ipynb)\n",
        "\n",
        "**Firstname Lastname**\n",
        "\n",
        "150 points in total (30 points each question). You have 75 minutes to complete the exam.\n",
        "\n",
        "\n",
        "**Submission instructions**\n",
        "\n",
        "Your submission should contain four hyperlinks as follows:\n",
        "\n",
        "- GitHub: https://github.com/giswqs/geosdemo\n",
        "- PyPI: https://pypi.org/project/geosdemo\n",
        "- Docs: https://giswqs.github.io/geosdemo \n",
        "- Notebook: https://github.com/giswqs/geosdemo/blob/master/docs/labs/midterm.ipynb\n",
        "\n",
        "Before submission, restart kernel and run all cells."
      ]
    },
    {
      "cell_type": "code",
      "execution_count": null,
      "id": "03c56513-daab-414e-9947-e88cf56afb24",
      "metadata": {
        "id": "03c56513-daab-414e-9947-e88cf56afb24"
      },
      "outputs": [],
      "source": [
        "from datetime import datetime\n",
        "\n",
        "now = datetime.now()\n",
        "print(f\"Submitted time: {now}\")"
      ]
    },
    {
      "cell_type": "markdown",
      "id": "949a0196",
      "metadata": {
        "id": "949a0196"
      },
      "source": [
        "## Question 1\n",
        "\n",
        "Create a new Python package and publish it on GitHub and PyPI. Do NOT use any packages that you created for previous assignments. The package must have GitHub Actions enabled, which allows you to automatically upload new releases from GitHub to PyPI. The package must also have the documentation website up and running. Complete the four questions below on this notebook and add the notebook to your GitHub repo for this new package. Add an `Open In Colab` badge to the notebook. Upon completion, you should have four hyperlinks to your GitHub repo, PyPI, documentation website, and the notebook. \n",
        "\n",
        "- GitHub: https://github.com/giswqs/geosdemo\n",
        "- PyPI: https://pypi.org/project/geosdemo\n",
        "- Docs: https://giswqs.github.io/geosdemo \n",
        "- Notebook: https://github.com/giswqs/geosdemo/blob/master/docs/labs/midterm.ipynb"
      ]
    },
    {
      "cell_type": "markdown",
      "id": "90210396-a683-4891-9dee-328f1bd98f00",
      "metadata": {
        "id": "90210396-a683-4891-9dee-328f1bd98f00"
      },
      "source": [
        "Your answers:\n",
        "- GitHub: [https://github.com/statenandrea33/zimpy](https://https://github.com/statenandrea33/zimpy) \n",
        "- PyPI: [https://pypi.org/project/zimpy/](https://pypi.org/project/zimpy/)\n",
        "- Docs: [https://statenandrea33.github.io/zimpy/](https://statenandrea33.github.io/zimpy/)\n",
        "- Notebook:"
      ]
    },
    {
      "cell_type": "markdown",
      "id": "d5c26851-64ab-4957-8d24-affa0af5c39e",
      "metadata": {
        "id": "d5c26851-64ab-4957-8d24-affa0af5c39e"
      },
      "source": [
        "## Question 2\n",
        "**Ordinal numbers**: Ordinal numbers indicate their position in a list, such as 1st or 2nd. Most ordinal numbers end in *th*, except 1, 2, and 3. Write a program that repeatedly prompts a user for a number and prints out its corresponding ordinal number. Your program must be able to handle any integer, not just numbers between 1 and 10. If the user enters an invalid number, the program should prompt users to enter a valid number. When the user enters `quit`, the program stops. \n",
        "\n",
        "Sample output:\n",
        "\n",
        "```text\n",
        "Enter a number (enter 'quit' to exit):  1\n",
        "The ordinal number of 1 is: 1st\n",
        "Enter a number (enter 'quit' to exit):  2\n",
        "The ordinal number of 2 is: 2nd\n",
        "Enter a number (enter 'quit' to exit):  3\n",
        "The ordinal number of 3 is: 3rd\n",
        "Enter a number (enter 'quit' to exit):  5\n",
        "The ordinal number of 5 is: 5th\n",
        "Enter a number (enter 'quit' to exit):  11\n",
        "The ordinal number of 11 is: 11th\n",
        "Enter a number (enter 'quit' to exit):  12\n",
        "The ordinal number of 12 is: 12th\n",
        "Enter a number (enter 'quit' to exit):  13\n",
        "The ordinal number of 13 is: 13th\n",
        "Enter a number (enter 'quit' to exit):  21\n",
        "The ordinal number of 21 is: 21st\n",
        "Enter a number (enter 'quit' to exit):  22\n",
        "The ordinal number of 22 is: 22nd\n",
        "Enter a number (enter 'quit' to exit):  23\n",
        "The ordinal number of 23 is: 23rd\n",
        "Enter a number (enter 'quit' to exit):  99\n",
        "The ordinal number of 99 is: 99th\n",
        "Enter a number (enter 'quit' to exit):  101\n",
        "The ordinal number of 101 is: 101st\n",
        "Enter a number (enter 'quit' to exit):  hello\n",
        "hello is an invalid number. Please enter an integer number!\n",
        "Enter a number (enter 'quit' to exit):  haha\n",
        "haha is an invalid number. Please enter an integer number!\n",
        "Enter a number (enter 'quit' to exit):  quit\n",
        "```"
      ]
    },
    {
      "cell_type": "code",
      "execution_count": 23,
      "id": "054c7bf4-e64c-4a5b-84d1-530d0e4ce0f5",
      "metadata": {
        "id": "054c7bf4-e64c-4a5b-84d1-530d0e4ce0f5",
        "outputId": "acdb86b5-e2ec-480a-e494-218d17e30f52",
        "colab": {
          "base_uri": "https://localhost:8080/"
        }
      },
      "outputs": [
        {
          "name": "stdout",
          "output_type": "stream",
          "text": [
            "Enter 'quit' to exit:\n",
            "Enter a number: 1\n",
            "The ordinal number of 1 is: 1st\n",
            "Enter a number: 2\n",
            "The ordinal number of 2 is: 2nd\n",
            "Enter a number: 3\n",
            "The ordinal number of 3 is: 3rd\n",
            "Enter a number: 4\n",
            "The ordinal number of 4 is: 4th\n",
            "Enter a number: haha\n",
            "haha is an invalid number. Please enter an integer number!\n",
            "Enter a number: 15\n",
            "The ordinal number of 15 is: 15th\n",
            "Enter a number: quit\n"
          ]
        }
      ],
      "source": [
        "print(\"Enter 'quit' to exit:\")\n",
        "\n",
        "prompt = \"Enter a number: \"\n",
        "while True:\n",
        "    number = input(prompt)\n",
        "    if number == 'quit':\n",
        "      break\n",
        "    try:\n",
        "        number = int(number)\n",
        "    except ValueError:\n",
        "        print(f\"{number} is an invalid number. Please enter an integer number!\")\n",
        "    else:\n",
        "      if (int(number) < 20) and (int(number) > 10):\n",
        "        print(\"The ordinal number of \"+str(number)  +\" is: \" +str(number)+ 'th')\n",
        "      elif (int(number) %10) == 1:\n",
        "        print(\"The ordinal number of \"+str(number)  +\" is: \" +str(number)+ 'st')\n",
        "      elif (int(number) %10) == 2:\n",
        "        print(\"The ordinal number of \"+str(number) +\" is: \" +str(number) + 'nd')\n",
        "      elif (int(number) %10) == 3:\n",
        "        print(\"The ordinal number of \"+str(number) +\" is: \" +str(number)+ 'rd')\n",
        "      else:\n",
        "        print(\"The ordinal number of \"+str(number) +\" is: \" +str(number) + 'th')\n",
        "\n",
        "\n",
        "\n"
      ]
    },
    {
      "cell_type": "markdown",
      "id": "3e211adf-8d3f-4323-b9ea-35809bb12e66",
      "metadata": {
        "id": "3e211adf-8d3f-4323-b9ea-35809bb12e66"
      },
      "source": [
        "## Question 3\n",
        "**Compute median:** Write a program that repeatedly prompts a user for numbers until the user enters `quit`. Once `quit` is entered, print out the median value of the numbers. If the user enters anything other than a valid number put out an appropriate message and ignore the number.\n",
        "\n",
        "Sample output:\n",
        "```text\n",
        "Enter a number (enter 'quit' to exit):  7\n",
        "Enter a number (enter 'quit' to exit):  8\n",
        "Enter a number (enter 'quit' to exit):  9\n",
        "Enter a number (enter 'quit' to exit):  haha\n",
        "Invalid input. Please enter a valid number.\n",
        "Enter a number (enter 'quit' to exit):  10\n",
        "Enter a number (enter 'quit' to exit):  quit\n",
        "The median value of the numbers [7.0, 8.0, 9.0, 10.0] is 8.5.\n",
        "```"
      ]
    },
    {
      "cell_type": "code",
      "execution_count": 31,
      "id": "f748d68f-4ab9-46ea-a63c-34fc64ed55a2",
      "metadata": {
        "id": "f748d68f-4ab9-46ea-a63c-34fc64ed55a2",
        "outputId": "61f5404f-356e-4fae-b070-d669d28354d7",
        "colab": {
          "base_uri": "https://localhost:8080/"
        }
      },
      "outputs": [
        {
          "output_type": "stream",
          "name": "stdout",
          "text": [
            "Enter 'quit' to exit:\n",
            "Enter a number: \n",
            " is invalid. Please enter a valid number.\n",
            "Enter a number: 4\n",
            "Enter a number: 7\n",
            "Enter a number: 2\n",
            "Enter a number: 9\n",
            "Enter a number: haha\n",
            "haha is invalid. Please enter a valid number.\n",
            "Enter a number: 13\n",
            "Enter a number: quit\n",
            "The median value of the numbers [2, 4, 7, 9, 13] is 7.\n"
          ]
        }
      ],
      "source": [
        "print(\"Enter 'quit' to exit:\")\n",
        "\n",
        "prompt = \"Enter a number: \"\n",
        "numbers = []\n",
        "total_nums = 0\n",
        "while True:\n",
        "    number = input(prompt)\n",
        "    if number == 'quit':\n",
        "      break\n",
        "    try:\n",
        "        number = int(number)\n",
        "    except ValueError:\n",
        "        print(f\"{number} is invalid. Please enter a valid number.\")\n",
        "    else:\n",
        "      numbers.append(number)\n",
        "      total_nums = total_nums + 1\n",
        "numbers = sorted(numbers)\n",
        "median = 0\n",
        "if total_nums % 2 == 0:\n",
        "  median = (numbers[int(total_nums / 2)] + numbers[int((total_nums / 2) - 1)]) / 2\n",
        "else:\n",
        "  median = numbers[int((total_nums - 1) / 2)]\n",
        "\n",
        "print(f\"The median value of the numbers {numbers} is {median}.\")\n",
        "    \n",
        "\n",
        "\n",
        "\n",
        "\n"
      ]
    },
    {
      "cell_type": "markdown",
      "id": "e20f5fbb-f164-44b2-808a-fd815f0b8ed8",
      "metadata": {
        "id": "e20f5fbb-f164-44b2-808a-fd815f0b8ed8"
      },
      "source": [
        "## Question 4\n",
        "**Count Words:** Based on the text file [A-Tale-of-Two-Cities.txt](https://raw.githubusercontent.com/giswqs/geosdemo/master/docs/python/data/A-Tale-of-Two-Cities.txt), write a program that repeatly prompts a user to enter a word or phrase and finds out how many times it appears in the text file. When a user enters `quit`, the program stops. \n",
        "\n",
        "Sample output:\n",
        "```text\n",
        "Enter a word or phrase to search for (enter 'quit' to exit):  the\n",
        "'the' appears 10694 times in the file.\n",
        "Enter a word or phrase to search for (enter 'quit' to exit):  season\n",
        "'season' appears 8 times in the file.\n",
        "Enter a word or phrase to search for (enter 'quit' to exit):  country\n",
        "'country' appears 42 times in the file.\n",
        "Enter a word or phrase to search for (enter 'quit' to exit):  hello\n",
        "'hello' appears 0 times in the file.\n",
        "Enter a word or phrase to search for (enter 'quit' to exit):  love\n",
        "'love' appears 77 times in the file.\n",
        "Enter a word or phrase to search for (enter 'quit' to exit):  quit\n",
        "```"
      ]
    },
    {
      "cell_type": "code",
      "execution_count": 37,
      "id": "22a29906",
      "metadata": {
        "id": "22a29906",
        "outputId": "d20b7b8b-ebb2-4087-c58e-a6cb7e5fcb66",
        "colab": {
          "base_uri": "https://localhost:8080/"
        }
      },
      "outputs": [
        {
          "name": "stdout",
          "output_type": "stream",
          "text": [
            "--2023-03-23 18:18:02--  https://raw.githubusercontent.com/giswqs/geosdemo/master/docs/python/data/A-Tale-of-Two-Cities.txt\n",
            "Resolving raw.githubusercontent.com (raw.githubusercontent.com)... 185.199.108.133, 185.199.109.133, 185.199.110.133, ...\n",
            "Connecting to raw.githubusercontent.com (raw.githubusercontent.com)|185.199.108.133|:443... connected.\n",
            "HTTP request sent, awaiting response... 200 OK\n",
            "Length: 804335 (785K) [text/plain]\n",
            "Saving to: ‘A-Tale-of-Two-Cities.txt.7’\n",
            "\n",
            "\r          A-Tale-of   0%[                    ]       0  --.-KB/s               \rA-Tale-of-Two-Citie 100%[===================>] 785.48K  --.-KB/s    in 0.05s   \n",
            "\n",
            "2023-03-23 18:18:02 (16.3 MB/s) - ‘A-Tale-of-Two-Cities.txt.7’ saved [804335/804335]\n",
            "\n",
            "Enter a word or phrase to search for (enter 'quit' to quit):quit\n"
          ]
        }
      ],
      "source": [
        "filename = ('A-Tale-of-Two-Cities.txt')\n",
        "!wget https://raw.githubusercontent.com/giswqs/geosdemo/master/docs/python/data/A-Tale-of-Two-Cities.txt\n",
        "\n",
        "while True:\n",
        "  word = input(f\"Enter a word or phrase to search for (enter 'quit' to quit):\")\n",
        "  if word == 'quit':\n",
        "    break\n",
        "  try:\n",
        "      with open(filename) as file_object:\n",
        "        contents = file_object.read()\n",
        "        count = contents.lower().count(word)\n",
        "        print(f\"The word '{word}' is seen {count} times within the file.\")\n",
        "  except FileNotFoundError:\n",
        "    pass\n",
        "\n"
      ]
    },
    {
      "cell_type": "markdown",
      "id": "7c064842",
      "metadata": {
        "id": "7c064842"
      },
      "source": [
        "## Question 5\n",
        "\n",
        "Write a program that counts the number of unique words in a text file. The program should repeatedly prompt a user to enter a file name and print out the number of unique words in the file. When a user enters `quit`, the program stops. If the input file does not exist, the program should print out an error message and prompt users to enter a valid filename.\n",
        "\n",
        "Some sample text files are available at:\n",
        "- [A-Tale-of-Two-Cities.txt](https://raw.githubusercontent.com/giswqs/geosdemo/master/docs/python/data/A-Tale-of-Two-Cities.txt)\n",
        "- [little_women.txt](https://raw.githubusercontent.com/giswqs/geosdemo/master/docs/python/data/little_women.txt)\n",
        "- [alice.txt](https://raw.githubusercontent.com/giswqs/geosdemo/master/docs/python/data/alice.txt)\n",
        "\n",
        "Sample output:\n",
        "```text\n",
        "Enter the filename:  A-Tale-of-Two-Cities.txt\n",
        "There are 19666 unique words in the file A-Tale-of-Two-Cities.txt\n",
        "Enter the filename:  little_women.txt\n",
        "There are 21050 unique words in the file little_women.txt\n",
        "Enter the filename:  alice.txt\n",
        "There are 6018 unique words in the file alice.txt\n",
        "Enter the filename:  hello_world.txt\n",
        "File 'hello_world.txt' not found. Please enter a valid filename.\n",
        "Enter the filename:  serious.txt\n",
        "File 'serious.txt' not found. Please enter a valid filename.\n",
        "Enter the filename:  I am done\n",
        "File 'I am done' not found. Please enter a valid filename.\n",
        "Enter the filename:  quit\n",
        "```"
      ]
    },
    {
      "cell_type": "code",
      "execution_count": 40,
      "id": "a664f044",
      "metadata": {
        "id": "a664f044",
        "outputId": "a1be861c-616e-44ea-edc1-394b1a5d0957",
        "colab": {
          "base_uri": "https://localhost:8080/"
        }
      },
      "outputs": [
        {
          "name": "stdout",
          "output_type": "stream",
          "text": [
            "--2023-03-23 18:38:11--  https://raw.githubusercontent.com/giswqs/geosdemo/master/docs/python/data/alice.txt\n",
            "Resolving raw.githubusercontent.com (raw.githubusercontent.com)... 185.199.110.133, 185.199.109.133, 185.199.111.133, ...\n",
            "Connecting to raw.githubusercontent.com (raw.githubusercontent.com)|185.199.110.133|:443... connected.\n",
            "HTTP request sent, awaiting response... 200 OK\n",
            "Length: 169855 (166K) [text/plain]\n",
            "Saving to: ‘alice.txt.2’\n",
            "\n",
            "\ralice.txt.2           0%[                    ]       0  --.-KB/s               \ralice.txt.2         100%[===================>] 165.87K  --.-KB/s    in 0.02s   \n",
            "\n",
            "2023-03-23 18:38:11 (7.16 MB/s) - ‘alice.txt.2’ saved [169855/169855]\n",
            "\n",
            "--2023-03-23 18:38:12--  https://raw.githubusercontent.com/giswqs/geosdemo/master/docs/python/data/little_women.txt\n",
            "Resolving raw.githubusercontent.com (raw.githubusercontent.com)... 185.199.110.133, 185.199.109.133, 185.199.111.133, ...\n",
            "Connecting to raw.githubusercontent.com (raw.githubusercontent.com)|185.199.110.133|:443... connected.\n",
            "HTTP request sent, awaiting response... 200 OK\n",
            "Length: 1053436 (1.0M) [text/plain]\n",
            "Saving to: ‘little_women.txt.2’\n",
            "\n",
            "little_women.txt.2  100%[===================>]   1.00M  --.-KB/s    in 0.05s   \n",
            "\n",
            "2023-03-23 18:38:12 (21.0 MB/s) - ‘little_women.txt.2’ saved [1053436/1053436]\n",
            "\n",
            "--2023-03-23 18:38:12--  https://raw.githubusercontent.com/giswqs/geosdemo/master/docs/python/data/A-Tale-of-Two-Cities.txt\n",
            "Resolving raw.githubusercontent.com (raw.githubusercontent.com)... 185.199.110.133, 185.199.111.133, 185.199.108.133, ...\n",
            "Connecting to raw.githubusercontent.com (raw.githubusercontent.com)|185.199.110.133|:443... connected.\n",
            "HTTP request sent, awaiting response... 200 OK\n",
            "Length: 804335 (785K) [text/plain]\n",
            "Saving to: ‘A-Tale-of-Two-Cities.txt.10’\n",
            "\n",
            "A-Tale-of-Two-Citie 100%[===================>] 785.48K  --.-KB/s    in 0.05s   \n",
            "\n",
            "2023-03-23 18:38:12 (15.2 MB/s) - ‘A-Tale-of-Two-Cities.txt.10’ saved [804335/804335]\n",
            "\n",
            "Enter 'quit' to exit.\n",
            "Enter the filename: afhsdhfsjod.txt\n",
            "Please enter a valid filename.\n",
            "Enter the filename: quit\n"
          ]
        }
      ],
      "source": [
        "!wget https://raw.githubusercontent.com/giswqs/geosdemo/master/docs/python/data/alice.txt\n",
        "!wget https://raw.githubusercontent.com/giswqs/geosdemo/master/docs/python/data/little_women.txt\n",
        "!wget https://raw.githubusercontent.com/giswqs/geosdemo/master/docs/python/data/A-Tale-of-Two-Cities.txt\n",
        "\n",
        "print(\"Enter 'quit' to exit.\")\n",
        "while True:\n",
        "  filename = input(f\"Enter the filename: \")\n",
        "  if filename == 'quit':\n",
        "    break\n",
        "  try:\n",
        "      with open (filename) as file_object:\n",
        "          contents = file_object.read()\n",
        "          unique_words = set(contents.split())\n",
        "          print(f\"There are {len(unique_words)} unique words in the file {filename}.\")\n",
        "  except FileNotFoundError:\n",
        "        print(\"Please enter a valid filename.\")\n",
        "        \n"
      ]
    }
  ],
  "metadata": {
    "kernelspec": {
      "display_name": "Python 3 (ipykernel)",
      "language": "python",
      "name": "python3"
    },
    "language_info": {
      "codemirror_mode": {
        "name": "ipython",
        "version": 3
      },
      "file_extension": ".py",
      "mimetype": "text/x-python",
      "name": "python",
      "nbconvert_exporter": "python",
      "pygments_lexer": "ipython3",
      "version": "3.10.8"
    },
    "colab": {
      "provenance": [],
      "include_colab_link": true
    }
  },
  "nbformat": 4,
  "nbformat_minor": 5
}
